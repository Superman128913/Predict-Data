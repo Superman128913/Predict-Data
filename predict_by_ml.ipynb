{
 "cells": [
  {
   "cell_type": "code",
   "execution_count": null,
   "metadata": {},
   "outputs": [],
   "source": [
    "import math\n",
    "import pandas\n",
    "import numpy as np\n",
    "import sklearn.linear_model as linear_model"
   ]
  },
  {
   "cell_type": "code",
   "execution_count": null,
   "metadata": {},
   "outputs": [],
   "source": [
    "df = pandas.read_csv(\"bsuos_data.csv\")"
   ]
  },
  {
   "cell_type": "code",
   "execution_count": null,
   "metadata": {},
   "outputs": [],
   "source": [
    "print(\"preparing training data\")\n",
    "\n",
    "base_data_x  = []\n",
    "base_data_y = []\n",
    "for i in range(len(df)):\n",
    "    if (not math.isnan(df.iat[i,2])) and (not math.isnan(df.iat[i,3])):\n",
    "        base_data_x.append(i)\n",
    "        base_data_y.append([df.iat[i,2],df.iat[i,3]])"
   ]
  },
  {
   "cell_type": "code",
   "execution_count": null,
   "metadata": {},
   "outputs": [],
   "source": [
    "train_data_x = np.array(base_data_x).reshape(-1,1)\n",
    "train_data_y = np.array(base_data_y)\n",
    "\n",
    "print(train_data_x)\n",
    "print(train_data_y)"
   ]
  },
  {
   "cell_type": "code",
   "execution_count": null,
   "metadata": {},
   "outputs": [],
   "source": [
    "print(\"traning model... ...\")\n",
    "\n",
    "regr = linear_model.LinearRegression()\n",
    "regr.fit(train_data_x, train_data_y)\n",
    "print(regr)"
   ]
  },
  {
   "cell_type": "code",
   "execution_count": null,
   "metadata": {},
   "outputs": [],
   "source": [
    "print(\"saving data\")\n",
    "\n",
    "for i in range(len(df)):\n",
    "    if math.isnan(df.iat[i,2]):\n",
    "        df.iat[i,2] = regr.predict([[i]])[0,0]\n",
    "    if math.isnan(df.iat[i,3]):\n",
    "        df.iat[i,3] = regr.predict([[i]])[0,1]\n"
   ]
  },
  {
   "cell_type": "code",
   "execution_count": null,
   "metadata": {},
   "outputs": [],
   "source": [
    "print(\"export csv\")\n",
    "\n",
    "df.to_csv(\"predicted_data.csv\")"
   ]
  },
  {
   "cell_type": "code",
   "execution_count": null,
   "metadata": {},
   "outputs": [],
   "source": [
    "'''\n",
    "winmv = input(\"please insert win_mv\")\n",
    "dadfmv = input(\"please insert dedf_mv\")\n",
    "residualmv = input(\"please insert residual_mv\")   \n",
    "\n",
    "predict_bsuos = regr.predict([[winmv, dadfmv,residualmv]])\n",
    "print(\"pridicted value of bsuos: \", predict_bsuos)\n",
    "#predict the CO2 emission of a car where the weight is 2300kg, and the volume is 1300cm3:\n",
    "'''"
   ]
  }
 ],
 "metadata": {
  "kernelspec": {
   "display_name": "pandas-numpy-tutor-WuRoAqMX-py3.10",
   "language": "python",
   "name": "python3"
  },
  "language_info": {
   "name": "python",
   "version": "3.10.10"
  },
  "orig_nbformat": 4,
  "vscode": {
   "interpreter": {
    "hash": "542d9ef415c46f1c6f40bf5690e5875c046d0430ac229639e5d87fd12c823564"
   }
  }
 },
 "nbformat": 4,
 "nbformat_minor": 2
}
